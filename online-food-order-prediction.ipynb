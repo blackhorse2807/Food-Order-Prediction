{
 "cells": [
  {
   "cell_type": "markdown",
   "id": "0133ce81",
   "metadata": {
    "papermill": {
     "duration": 0.011336,
     "end_time": "2022-08-22T09:09:54.911982",
     "exception": false,
     "start_time": "2022-08-22T09:09:54.900646",
     "status": "completed"
    },
    "tags": []
   },
   "source": [
    "# Online Food Ordering Prediction"
   ]
  },
  {
   "cell_type": "code",
   "execution_count": 1,
   "id": "f5de01cb",
   "metadata": {
    "execution": {
     "iopub.execute_input": "2022-08-22T09:09:54.934140Z",
     "iopub.status.busy": "2022-08-22T09:09:54.933660Z",
     "iopub.status.idle": "2022-08-22T09:09:56.716901Z",
     "shell.execute_reply": "2022-08-22T09:09:56.715390Z"
    },
    "papermill": {
     "duration": 1.798046,
     "end_time": "2022-08-22T09:09:56.720069",
     "exception": false,
     "start_time": "2022-08-22T09:09:54.922023",
     "status": "completed"
    },
    "tags": []
   },
   "outputs": [],
   "source": [
    "# libraries\n",
    "\n",
    "import numpy as np\n",
    "import warnings\n",
    "import random\n",
    "warnings.filterwarnings('ignore')\n",
    "import pandas as pd\n",
    "import seaborn as sns\n",
    "import matplotlib.pyplot as plt\n",
    "import plotly.graph_objects as go\n",
    "\n",
    "# model\n",
    "from sklearn.metrics import confusion_matrix\n",
    "from sklearn.model_selection import train_test_split,cross_val_score\n",
    "from sklearn.ensemble import RandomForestClassifier\n",
    "\n",
    "# pipeline\n",
    "from sklearn.pipeline import Pipeline, make_pipeline\n",
    "from sklearn.model_selection import GridSearchCV"
   ]
  },
  {
   "cell_type": "code",
   "execution_count": 2,
   "id": "bd0bfb7d",
   "metadata": {
    "execution": {
     "iopub.execute_input": "2022-08-22T09:09:56.741116Z",
     "iopub.status.busy": "2022-08-22T09:09:56.740411Z",
     "iopub.status.idle": "2022-08-22T09:09:56.808758Z",
     "shell.execute_reply": "2022-08-22T09:09:56.807420Z"
    },
    "papermill": {
     "duration": 0.082336,
     "end_time": "2022-08-22T09:09:56.811912",
     "exception": false,
     "start_time": "2022-08-22T09:09:56.729576",
     "status": "completed"
    },
    "tags": []
   },
   "outputs": [
    {
     "data": {
      "text/html": [
       "<div>\n",
       "<style scoped>\n",
       "    .dataframe tbody tr th:only-of-type {\n",
       "        vertical-align: middle;\n",
       "    }\n",
       "\n",
       "    .dataframe tbody tr th {\n",
       "        vertical-align: top;\n",
       "    }\n",
       "\n",
       "    .dataframe thead th {\n",
       "        text-align: right;\n",
       "    }\n",
       "</style>\n",
       "<table border=\"1\" class=\"dataframe\">\n",
       "  <thead>\n",
       "    <tr style=\"text-align: right;\">\n",
       "      <th></th>\n",
       "      <th>Age</th>\n",
       "      <th>Gender</th>\n",
       "      <th>Marital Status</th>\n",
       "      <th>Occupation</th>\n",
       "      <th>Monthly Income</th>\n",
       "      <th>Educational Qualifications</th>\n",
       "      <th>Family size</th>\n",
       "      <th>latitude</th>\n",
       "      <th>longitude</th>\n",
       "      <th>Pin code</th>\n",
       "      <th>...</th>\n",
       "      <th>Less Delivery time</th>\n",
       "      <th>High Quality of package</th>\n",
       "      <th>Number of calls</th>\n",
       "      <th>Politeness</th>\n",
       "      <th>Freshness</th>\n",
       "      <th>Temperature</th>\n",
       "      <th>Good Taste</th>\n",
       "      <th>Good Quantity</th>\n",
       "      <th>Output</th>\n",
       "      <th>Reviews</th>\n",
       "    </tr>\n",
       "  </thead>\n",
       "  <tbody>\n",
       "    <tr>\n",
       "      <th>0</th>\n",
       "      <td>20</td>\n",
       "      <td>Female</td>\n",
       "      <td>Single</td>\n",
       "      <td>Student</td>\n",
       "      <td>No Income</td>\n",
       "      <td>Post Graduate</td>\n",
       "      <td>4</td>\n",
       "      <td>12.9766</td>\n",
       "      <td>77.5993</td>\n",
       "      <td>560001</td>\n",
       "      <td>...</td>\n",
       "      <td>Moderately Important</td>\n",
       "      <td>Moderately Important</td>\n",
       "      <td>Moderately Important</td>\n",
       "      <td>Moderately Important</td>\n",
       "      <td>Moderately Important</td>\n",
       "      <td>Moderately Important</td>\n",
       "      <td>Moderately Important</td>\n",
       "      <td>Moderately Important</td>\n",
       "      <td>Yes</td>\n",
       "      <td>Nil\\n</td>\n",
       "    </tr>\n",
       "    <tr>\n",
       "      <th>1</th>\n",
       "      <td>24</td>\n",
       "      <td>Female</td>\n",
       "      <td>Single</td>\n",
       "      <td>Student</td>\n",
       "      <td>Below Rs.10000</td>\n",
       "      <td>Graduate</td>\n",
       "      <td>3</td>\n",
       "      <td>12.9770</td>\n",
       "      <td>77.5773</td>\n",
       "      <td>560009</td>\n",
       "      <td>...</td>\n",
       "      <td>Very Important</td>\n",
       "      <td>Very Important</td>\n",
       "      <td>Very Important</td>\n",
       "      <td>Very Important</td>\n",
       "      <td>Very Important</td>\n",
       "      <td>Very Important</td>\n",
       "      <td>Very Important</td>\n",
       "      <td>Very Important</td>\n",
       "      <td>Yes</td>\n",
       "      <td>Nil</td>\n",
       "    </tr>\n",
       "    <tr>\n",
       "      <th>2</th>\n",
       "      <td>22</td>\n",
       "      <td>Male</td>\n",
       "      <td>Single</td>\n",
       "      <td>Student</td>\n",
       "      <td>Below Rs.10000</td>\n",
       "      <td>Post Graduate</td>\n",
       "      <td>3</td>\n",
       "      <td>12.9551</td>\n",
       "      <td>77.6593</td>\n",
       "      <td>560017</td>\n",
       "      <td>...</td>\n",
       "      <td>Important</td>\n",
       "      <td>Very Important</td>\n",
       "      <td>Moderately Important</td>\n",
       "      <td>Very Important</td>\n",
       "      <td>Very Important</td>\n",
       "      <td>Important</td>\n",
       "      <td>Very Important</td>\n",
       "      <td>Moderately Important</td>\n",
       "      <td>Yes</td>\n",
       "      <td>Many a times payment gateways are an issue, so...</td>\n",
       "    </tr>\n",
       "    <tr>\n",
       "      <th>3</th>\n",
       "      <td>22</td>\n",
       "      <td>Female</td>\n",
       "      <td>Single</td>\n",
       "      <td>Student</td>\n",
       "      <td>No Income</td>\n",
       "      <td>Graduate</td>\n",
       "      <td>6</td>\n",
       "      <td>12.9473</td>\n",
       "      <td>77.5616</td>\n",
       "      <td>560019</td>\n",
       "      <td>...</td>\n",
       "      <td>Very Important</td>\n",
       "      <td>Important</td>\n",
       "      <td>Moderately Important</td>\n",
       "      <td>Very Important</td>\n",
       "      <td>Very Important</td>\n",
       "      <td>Very Important</td>\n",
       "      <td>Very Important</td>\n",
       "      <td>Important</td>\n",
       "      <td>Yes</td>\n",
       "      <td>nil</td>\n",
       "    </tr>\n",
       "    <tr>\n",
       "      <th>4</th>\n",
       "      <td>22</td>\n",
       "      <td>Male</td>\n",
       "      <td>Single</td>\n",
       "      <td>Student</td>\n",
       "      <td>Below Rs.10000</td>\n",
       "      <td>Post Graduate</td>\n",
       "      <td>4</td>\n",
       "      <td>12.9850</td>\n",
       "      <td>77.5533</td>\n",
       "      <td>560010</td>\n",
       "      <td>...</td>\n",
       "      <td>Important</td>\n",
       "      <td>Important</td>\n",
       "      <td>Moderately Important</td>\n",
       "      <td>Important</td>\n",
       "      <td>Important</td>\n",
       "      <td>Important</td>\n",
       "      <td>Very Important</td>\n",
       "      <td>Very Important</td>\n",
       "      <td>Yes</td>\n",
       "      <td>NIL</td>\n",
       "    </tr>\n",
       "  </tbody>\n",
       "</table>\n",
       "<p>5 rows × 55 columns</p>\n",
       "</div>"
      ],
      "text/plain": [
       "   Age  Gender Marital Status Occupation  Monthly Income  \\\n",
       "0   20  Female         Single    Student       No Income   \n",
       "1   24  Female         Single    Student  Below Rs.10000   \n",
       "2   22    Male         Single    Student  Below Rs.10000   \n",
       "3   22  Female         Single    Student       No Income   \n",
       "4   22    Male         Single    Student  Below Rs.10000   \n",
       "\n",
       "  Educational Qualifications  Family size  latitude  longitude  Pin code  ...  \\\n",
       "0              Post Graduate            4   12.9766    77.5993    560001  ...   \n",
       "1                   Graduate            3   12.9770    77.5773    560009  ...   \n",
       "2              Post Graduate            3   12.9551    77.6593    560017  ...   \n",
       "3                   Graduate            6   12.9473    77.5616    560019  ...   \n",
       "4              Post Graduate            4   12.9850    77.5533    560010  ...   \n",
       "\n",
       "     Less Delivery time High Quality of package       Number of calls  \\\n",
       "0  Moderately Important    Moderately Important  Moderately Important   \n",
       "1        Very Important          Very Important        Very Important   \n",
       "2             Important          Very Important  Moderately Important   \n",
       "3        Very Important               Important  Moderately Important   \n",
       "4             Important               Important  Moderately Important   \n",
       "\n",
       "             Politeness            Freshness            Temperature  \\\n",
       "0  Moderately Important  Moderately Important  Moderately Important   \n",
       "1        Very Important        Very Important        Very Important   \n",
       "2        Very Important        Very Important             Important   \n",
       "3        Very Important        Very Important        Very Important   \n",
       "4             Important             Important             Important   \n",
       "\n",
       "            Good Taste          Good Quantity Output  \\\n",
       "0  Moderately Important  Moderately Important    Yes   \n",
       "1        Very Important        Very Important    Yes   \n",
       "2        Very Important  Moderately Important    Yes   \n",
       "3        Very Important             Important    Yes   \n",
       "4        Very Important        Very Important    Yes   \n",
       "\n",
       "                                             Reviews  \n",
       "0                                              Nil\\n  \n",
       "1                                                Nil  \n",
       "2  Many a times payment gateways are an issue, so...  \n",
       "3                                                nil  \n",
       "4                                                NIL  \n",
       "\n",
       "[5 rows x 55 columns]"
      ]
     },
     "execution_count": 2,
     "metadata": {},
     "output_type": "execute_result"
    }
   ],
   "source": [
    "data = pd.read_csv(\"../input/online-food-delivery-preferencesbangalore-region/onlinedeliverydata.csv\")\n",
    "data.head()"
   ]
  },
  {
   "cell_type": "markdown",
   "id": "4808f282",
   "metadata": {
    "papermill": {
     "duration": 0.009911,
     "end_time": "2022-08-22T09:09:56.832027",
     "exception": false,
     "start_time": "2022-08-22T09:09:56.822116",
     "status": "completed"
    },
    "tags": []
   },
   "source": [
    "I won't use all the features.The dataset I'll use contains these information:\n",
    "\n",
    "- the age of the client\n",
    "- marital status of the client\n",
    "- occupation of the client\n",
    "- monthly income of the client\n",
    "- educational qualification of the client\n",
    "- family size of the client\n",
    "- latitude and longitude of the location of the client\n",
    "- pin code of the residence of the client\n",
    "- did the client order again (Output)\n",
    "- remarks on the most recent order (Positive or Negative)"
   ]
  },
  {
   "cell_type": "code",
   "execution_count": 3,
   "id": "5d46f889",
   "metadata": {
    "execution": {
     "iopub.execute_input": "2022-08-22T09:09:56.855230Z",
     "iopub.status.busy": "2022-08-22T09:09:56.854832Z",
     "iopub.status.idle": "2022-08-22T09:09:56.884314Z",
     "shell.execute_reply": "2022-08-22T09:09:56.882959Z"
    },
    "papermill": {
     "duration": 0.044671,
     "end_time": "2022-08-22T09:09:56.888119",
     "exception": false,
     "start_time": "2022-08-22T09:09:56.843448",
     "status": "completed"
    },
    "tags": []
   },
   "outputs": [
    {
     "name": "stdout",
     "output_type": "stream",
     "text": [
      "<class 'pandas.core.frame.DataFrame'>\n",
      "RangeIndex: 388 entries, 0 to 387\n",
      "Data columns (total 11 columns):\n",
      " #   Column                      Non-Null Count  Dtype  \n",
      "---  ------                      --------------  -----  \n",
      " 0   Age                         388 non-null    int64  \n",
      " 1   Gender                      388 non-null    object \n",
      " 2   Marital Status              388 non-null    object \n",
      " 3   Occupation                  388 non-null    object \n",
      " 4   Monthly Income              388 non-null    object \n",
      " 5   Educational Qualifications  388 non-null    object \n",
      " 6   Family size                 388 non-null    int64  \n",
      " 7   latitude                    388 non-null    float64\n",
      " 8   longitude                   388 non-null    float64\n",
      " 9   Pin code                    388 non-null    int64  \n",
      " 10  Output                      388 non-null    object \n",
      "dtypes: float64(2), int64(3), object(6)\n",
      "memory usage: 33.5+ KB\n"
     ]
    }
   ],
   "source": [
    "data = data[[\"Age\",\"Gender\", \"Marital Status\",\"Occupation\", \"Monthly Income\", \"Educational Qualifications\",\n",
    "             \"Family size\",\"latitude\", \"longitude\", \"Pin code\",\"Output\"]].copy()\n",
    "data.info()"
   ]
  },
  {
   "cell_type": "code",
   "execution_count": 4,
   "id": "78481f41",
   "metadata": {
    "execution": {
     "iopub.execute_input": "2022-08-22T09:09:56.912840Z",
     "iopub.status.busy": "2022-08-22T09:09:56.912392Z",
     "iopub.status.idle": "2022-08-22T09:09:56.922148Z",
     "shell.execute_reply": "2022-08-22T09:09:56.921099Z"
    },
    "papermill": {
     "duration": 0.025125,
     "end_time": "2022-08-22T09:09:56.924365",
     "exception": false,
     "start_time": "2022-08-22T09:09:56.899240",
     "status": "completed"
    },
    "tags": []
   },
   "outputs": [
    {
     "data": {
      "text/plain": [
       "Age                           0\n",
       "Gender                        0\n",
       "Marital Status                0\n",
       "Occupation                    0\n",
       "Monthly Income                0\n",
       "Educational Qualifications    0\n",
       "Family size                   0\n",
       "latitude                      0\n",
       "longitude                     0\n",
       "Pin code                      0\n",
       "Output                        0\n",
       "dtype: int64"
      ]
     },
     "execution_count": 4,
     "metadata": {},
     "output_type": "execute_result"
    }
   ],
   "source": [
    "data.isnull().sum() # no empty values"
   ]
  },
  {
   "cell_type": "markdown",
   "id": "5a721e20",
   "metadata": {
    "papermill": {
     "duration": 0.009897,
     "end_time": "2022-08-22T09:09:56.944513",
     "exception": false,
     "start_time": "2022-08-22T09:09:56.934616",
     "status": "completed"
    },
    "tags": []
   },
   "source": [
    "# Data Analysis with Visualization"
   ]
  },
  {
   "cell_type": "code",
   "execution_count": 5,
   "id": "19ee4c88",
   "metadata": {
    "execution": {
     "iopub.execute_input": "2022-08-22T09:09:56.966667Z",
     "iopub.status.busy": "2022-08-22T09:09:56.966272Z",
     "iopub.status.idle": "2022-08-22T09:09:57.370518Z",
     "shell.execute_reply": "2022-08-22T09:09:57.369057Z"
    },
    "papermill": {
     "duration": 0.418482,
     "end_time": "2022-08-22T09:09:57.373105",
     "exception": false,
     "start_time": "2022-08-22T09:09:56.954623",
     "status": "completed"
    },
    "tags": []
   },
   "outputs": [
    {
     "data": {
      "image/png": "[encoded data removed]",
      "text/plain": [
       "<Figure size 720x576 with 1 Axes>"
      ]
     },
     "metadata": {
      "needs_background": "light"
     },
     "output_type": "display_data"
    }
   ],
   "source": [
    "plt.figure(figsize=(10,8))\n",
    "plt.title(\"Online Food Order Decisions Based on the Age of the Customer\")\n",
    "sns.countplot(x='Age',data=data,hue='Output',palette=\"Set3\");"
   ]
  },
  {
   "cell_type": "markdown",
   "id": "7dadf0a2",
   "metadata": {
    "papermill": {
     "duration": 0.010161,
     "end_time": "2022-08-22T09:09:57.393804",
     "exception": false,
     "start_time": "2022-08-22T09:09:57.383643",
     "status": "completed"
    },
    "tags": []
   },
   "source": [
    "While the <b>Output</b> is '*Yes*' in the 22-25 age range, the <b>Output</b> is mostly '*No*' for 29-year-old users. This indicates that online food delivery companies specifically target these age groups(22-25 age range)."
   ]
  },
  {
   "cell_type": "code",
   "execution_count": 6,
   "id": "43994dc0",
   "metadata": {
    "execution": {
     "iopub.execute_input": "2022-08-22T09:09:57.416431Z",
     "iopub.status.busy": "2022-08-22T09:09:57.416042Z",
     "iopub.status.idle": "2022-08-22T09:09:57.670827Z",
     "shell.execute_reply": "2022-08-22T09:09:57.669835Z"
    },
    "papermill": {
     "duration": 0.269344,
     "end_time": "2022-08-22T09:09:57.673568",
     "exception": false,
     "start_time": "2022-08-22T09:09:57.404224",
     "status": "completed"
    },
    "tags": []
   },
   "outputs": [
    {
     "data": {
      "image/png": "[encoded data removed]",
      "text/plain": [
       "<Figure size 720x576 with 1 Axes>"
      ]
     },
     "metadata": {
      "needs_background": "light"
     },
     "output_type": "display_data"
    }
   ],
   "source": [
    "plt.figure(figsize=(10,8))\n",
    "plt.title(\"Online Food Order Decisions Based on the Size of the Family\")\n",
    "sns.countplot(x='Family size',data=data,hue='Output',palette=\"Set3_r\");"
   ]
  },
  {
   "cell_type": "markdown",
   "id": "a05de310",
   "metadata": {
    "papermill": {
     "duration": 0.01067,
     "end_time": "2022-08-22T09:09:57.695635",
     "exception": false,
     "start_time": "2022-08-22T09:09:57.684965",
     "status": "completed"
    },
    "tags": []
   },
   "source": [
    "Families of 2-3 people order more food. These families can also be groups of friends."
   ]
  },
  {
   "cell_type": "code",
   "execution_count": 7,
   "id": "24b2f588",
   "metadata": {
    "execution": {
     "iopub.execute_input": "2022-08-22T09:09:57.720009Z",
     "iopub.status.busy": "2022-08-22T09:09:57.718998Z",
     "iopub.status.idle": "2022-08-22T09:09:57.990038Z",
     "shell.execute_reply": "2022-08-22T09:09:57.988789Z"
    },
    "papermill": {
     "duration": 0.286589,
     "end_time": "2022-08-22T09:09:57.992995",
     "exception": false,
     "start_time": "2022-08-22T09:09:57.706406",
     "status": "completed"
    },
    "tags": []
   },
   "outputs": [
    {
     "data": {
      "image/png": "[encoded data removed]",
      "text/plain": [
       "<Figure size 720x576 with 1 Axes>"
      ]
     },
     "metadata": {
      "needs_background": "light"
     },
     "output_type": "display_data"
    }
   ],
   "source": [
    "plt.figure(figsize=(10,8))\n",
    "plt.title(\"Online Food Order Decisions Based on the Educational Qualifications of the Customer\")\n",
    "sns.countplot(x='Educational Qualifications',data=data,hue='Output',palette=\"Set2\");"
   ]
  },
  {
   "cell_type": "code",
   "execution_count": 8,
   "id": "ed7c5e7e",
   "metadata": {
    "execution": {
     "iopub.execute_input": "2022-08-22T09:09:58.018694Z",
     "iopub.status.busy": "2022-08-22T09:09:58.017497Z",
     "iopub.status.idle": "2022-08-22T09:09:58.333126Z",
     "shell.execute_reply": "2022-08-22T09:09:58.331958Z"
    },
    "papermill": {
     "duration": 0.331067,
     "end_time": "2022-08-22T09:09:58.335758",
     "exception": false,
     "start_time": "2022-08-22T09:09:58.004691",
     "status": "completed"
    },
    "tags": []
   },
   "outputs": [
    {
     "data": {
      "image/png": "[encoded data removed]",
      "text/plain": [
       "<Figure size 720x576 with 1 Axes>"
      ]
     },
     "metadata": {
      "needs_background": "light"
     },
     "output_type": "display_data"
    }
   ],
   "source": [
    "plt.figure(figsize=(10,8))\n",
    "plt.title(\"Online Food Order Decisions Based on the Educational Qualifications by the Occupation of the Customer\")\n",
    "sns.countplot(x='Educational Qualifications',data=data,hue='Occupation',palette=\"Set2_r\");"
   ]
  },
  {
   "cell_type": "markdown",
   "id": "8b21a15e",
   "metadata": {
    "papermill": {
     "duration": 0.011786,
     "end_time": "2022-08-22T09:09:58.359181",
     "exception": false,
     "start_time": "2022-08-22T09:09:58.347395",
     "status": "completed"
    },
    "tags": []
   },
   "source": [
    "The vast majority of students who place orders are pursuing a master's degree. The majority of graduates are either students or employees. In this case, the first priority of companies should be students."
   ]
  },
  {
   "cell_type": "code",
   "execution_count": 9,
   "id": "35919436",
   "metadata": {
    "execution": {
     "iopub.execute_input": "2022-08-22T09:09:58.385008Z",
     "iopub.status.busy": "2022-08-22T09:09:58.383831Z",
     "iopub.status.idle": "2022-08-22T09:09:58.534921Z",
     "shell.execute_reply": "2022-08-22T09:09:58.533435Z"
    },
    "papermill": {
     "duration": 0.168986,
     "end_time": "2022-08-22T09:09:58.539708",
     "exception": false,
     "start_time": "2022-08-22T09:09:58.370722",
     "status": "completed"
    },
    "tags": []
   },
   "outputs": [
    {
     "data": {
      "image/png": "[encoded data removed]",
      "text/plain": [
       "<Figure size 720x576 with 1 Axes>"
      ]
     },
     "metadata": {},
     "output_type": "display_data"
    }
   ],
   "source": [
    "female = len(data[data[\"Gender\"] == 'Female'])\n",
    "male = len(data[data[\"Gender\"] == 'Male'])\n",
    "data_gender = [female,male]\n",
    "labels = ['Female', 'Male']\n",
    "\n",
    "colors = sns.color_palette('pastel')[0:5] # seaborn color palette to use\n",
    "\n",
    "plt.figure(figsize=(10,8))\n",
    "plt.title(\"Distribution of Customer's Gender\")\n",
    "plt.pie(data_gender, labels = labels, colors = colors, autopct='%.0f%%')\n",
    "plt.show()"
   ]
  },
  {
   "cell_type": "markdown",
   "id": "4da48c3a",
   "metadata": {
    "papermill": {
     "duration": 0.019703,
     "end_time": "2022-08-22T09:09:58.590779",
     "exception": false,
     "start_time": "2022-08-22T09:09:58.571076",
     "status": "completed"
    },
    "tags": []
   },
   "source": [
    "The number of male customer in the data is slightly higher than the number of female customer. Let's look at the distribution of occupation and gender and reordering by gender."
   ]
  },
  {
   "cell_type": "code",
   "execution_count": 10,
   "id": "fa905204",
   "metadata": {
    "execution": {
     "iopub.execute_input": "2022-08-22T09:09:58.617833Z",
     "iopub.status.busy": "2022-08-22T09:09:58.616984Z",
     "iopub.status.idle": "2022-08-22T09:09:58.869907Z",
     "shell.execute_reply": "2022-08-22T09:09:58.868589Z"
    },
    "papermill": {
     "duration": 0.269206,
     "end_time": "2022-08-22T09:09:58.872616",
     "exception": false,
     "start_time": "2022-08-22T09:09:58.603410",
     "status": "completed"
    },
    "tags": []
   },
   "outputs": [
    {
     "data": {
      "image/png": "[encoded data removed]",
      "text/plain": [
       "<Figure size 720x576 with 1 Axes>"
      ]
     },
     "metadata": {
      "needs_background": "light"
     },
     "output_type": "display_data"
    }
   ],
   "source": [
    "plt.figure(figsize=(10,8))\n",
    "plt.title(\"Educational Qualifications Based on the Gender of the Customer\")\n",
    "sns.countplot(x='Occupation',data=data,hue='Gender',palette=\"Pastel2\");"
   ]
  },
  {
   "cell_type": "markdown",
   "id": "ea6a7848",
   "metadata": {
    "papermill": {
     "duration": 0.01204,
     "end_time": "2022-08-22T09:09:58.897303",
     "exception": false,
     "start_time": "2022-08-22T09:09:58.885263",
     "status": "completed"
    },
    "tags": []
   },
   "source": [
    "The number of male students is higher than the number of female students. There may be many reasons for this. The main reason may be gender roles supported by social norms."
   ]
  },
  {
   "cell_type": "markdown",
   "id": "c8f54fbc",
   "metadata": {
    "papermill": {
     "duration": 0.012029,
     "end_time": "2022-08-22T09:09:58.921732",
     "exception": false,
     "start_time": "2022-08-22T09:09:58.909703",
     "status": "completed"
    },
    "tags": []
   },
   "source": [
    "#### Which gender is most like to order again ?"
   ]
  },
  {
   "cell_type": "code",
   "execution_count": 11,
   "id": "a015c337",
   "metadata": {
    "execution": {
     "iopub.execute_input": "2022-08-22T09:09:58.949905Z",
     "iopub.status.busy": "2022-08-22T09:09:58.949031Z",
     "iopub.status.idle": "2022-08-22T09:09:59.108607Z",
     "shell.execute_reply": "2022-08-22T09:09:59.107238Z"
    },
    "papermill": {
     "duration": 0.177555,
     "end_time": "2022-08-22T09:09:59.111523",
     "exception": false,
     "start_time": "2022-08-22T09:09:58.933968",
     "status": "completed"
    },
    "tags": []
   },
   "outputs": [
    {
     "data": {
      "text/html": [
       "        <script type=\"text/javascript\">\n",
       "        window.PlotlyConfig = {MathJaxConfig: 'local'};\n",
       "        if (window.MathJax && window.MathJax.Hub && window.MathJax.Hub.Config) {window.MathJax.Hub.Config({SVG: {font: \"STIX-Web\"}});}\n",
       "        if (typeof require !== 'undefined') {\n",
       "        require.undef(\"plotly\");\n",
       "        requirejs.config({\n",
       "            paths: {\n",
       "                'plotly': ['https://cdn.plot.ly/plotly-2.12.1.min']\n",
       "            }\n",
       "        });\n",
       "        require(['plotly'], function(Plotly) {\n",
       "            window._Plotly = Plotly;\n",
       "        });\n",
       "        }\n",
       "        </script>\n",
       "        "
      ]
     },
     "metadata": {},
     "output_type": "display_data"
    },
    {
     "data": {
      "text/html": [
       "<div>                            <div id=\"f3e2a207-46ee-4d40-af47-aa50f2a1889c\" class=\"plotly-graph-div\" style=\"height:525px; width:100%;\"></div>            <script type=\"text/javascript\">                require([\"plotly\"], function(Plotly) {                    window.PLOTLYENV=window.PLOTLYENV || {};                                    if (document.getElementById(\"f3e2a207-46ee-4d40-af47-aa50f2a1889c\")) {                    Plotly.newPlot(                        \"f3e2a207-46ee-4d40-af47-aa50f2a1889c\",                        [{\"labels\":[\"Male\",\"Female\"],\"values\":[175,126],\"type\":\"pie\",\"marker\":{\"colors\":[[0.5529411764705883,0.8980392156862745,0.6313725490196078],[1.0,0.6235294117647059,0.6078431372549019]]},\"hoverinfo\":\"label+percent\",\"textinfo\":\"value\"}],                        {\"template\":{\"data\":{\"histogram2dcontour\":[{\"type\":\"histogram2dcontour\",\"colorbar\":{\"outlinewidth\":0,\"ticks\":\"\"},\"colorscale\":[[0.0,\"#0d0887\"],[0.1111111111111111,\"#46039f\"],[0.2222222222222222,\"#7201a8\"],[0.3333333333333333,\"#9c179e\"],[0.4444444444444444,\"#bd3786\"],[0.5555555555555556,\"#d8576b\"],[0.6666666666666666,\"#ed7953\"],[0.7777777777777778,\"#fb9f3a\"],[0.8888888888888888,\"#fdca26\"],[1.0,\"#f0f921\"]]}],\"choropleth\":[{\"type\":\"choropleth\",\"colorbar\":{\"outlinewidth\":0,\"ticks\":\"\"}}],\"histogram2d\":[{\"type\":\"histogram2d\",\"colorbar\":{\"outlinewidth\":0,\"ticks\":\"\"},\"colorscale\":[[0.0,\"#0d0887\"],[0.1111111111111111,\"#46039f\"],[0.2222222222222222,\"#7201a8\"],[0.3333333333333333,\"#9c179e\"],[0.4444444444444444,\"#bd3786\"],[0.5555555555555556,\"#d8576b\"],[0.6666666666666666,\"#ed7953\"],[0.7777777777777778,\"#fb9f3a\"],[0.8888888888888888,\"#fdca26\"],[1.0,\"#f0f921\"]]}],\"heatmap\":[{\"type\":\"heatmap\",\"colorbar\":{\"outlinewidth\":0,\"ticks\":\"\"},\"colorscale\":[[0.0,\"#0d0887\"],[0.1111111111111111,\"#46039f\"],[0.2222222222222222,\"#7201a8\"],[0.3333333333333333,\"#9c179e\"],[0.4444444444444444,\"#bd3786\"],[0.5555555555555556,\"#d8576b\"],[0.6666666666666666,\"#ed7953\"],[0.7777777777777778,\"#fb9f3a\"],[0.8888888888888888,\"#fdca26\"],[1.0,\"#f0f921\"]]}],\"heatmapgl\":[{\"type\":\"heatmapgl\",\"colorbar\":{\"outlinewidth\":0,\"ticks\":\"\"},\"colorscale\":[[0.0,\"#0d0887\"],[0.1111111111111111,\"#46039f\"],[0.2222222222222222,\"#7201a8\"],[0.3333333333333333,\"#9c179e\"],[0.4444444444444444,\"#bd3786\"],[0.5555555555555556,\"#d8576b\"],[0.6666666666666666,\"#ed7953\"],[0.7777777777777778,\"#fb9f3a\"],[0.8888888888888888,\"#fdca26\"],[1.0,\"#f0f921\"]]}],\"contourcarpet\":[{\"type\":\"contourcarpet\",\"colorbar\":{\"outlinewidth\":0,\"ticks\":\"\"}}],\"contour\":[{\"type\":\"contour\",\"colorbar\":{\"outlinewidth\":0,\"ticks\":\"\"},\"colorscale\":[[0.0,\"#0d0887\"],[0.1111111111111111,\"#46039f\"],[0.2222222222222222,\"#7201a8\"],[0.3333333333333333,\"#9c179e\"],[0.4444444444444444,\"#bd3786\"],[0.5555555555555556,\"#d8576b\"],[0.6666666666666666,\"#ed7953\"],[0.7777777777777778,\"#fb9f3a\"],[0.8888888888888888,\"#fdca26\"],[1.0,\"#f0f921\"]]}],\"surface\":[{\"type\":\"surface\",\"colorbar\":{\"outlinewidth\":0,\"ticks\":\"\"},\"colorscale\":[[0.0,\"#0d0887\"],[0.1111111111111111,\"#46039f\"],[0.2222222222222222,\"#7201a8\"],[0.3333333333333333,\"#9c179e\"],[0.4444444444444444,\"#bd3786\"],[0.5555555555555556,\"#d8576b\"],[0.6666666666666666,\"#ed7953\"],[0.7777777777777778,\"#fb9f3a\"],[0.8888888888888888,\"#fdca26\"],[1.0,\"#f0f921\"]]}],\"mesh3d\":[{\"type\":\"mesh3d\",\"colorbar\":{\"outlinewidth\":0,\"ticks\":\"\"}}],\"scatter\":[{\"fillpattern\":{\"fillmode\":\"overlay\",\"size\":10,\"solidity\":0.2},\"type\":\"scatter\"}],\"parcoords\":[{\"type\":\"parcoords\",\"line\":{\"colorbar\":{\"outlinewidth\":0,\"ticks\":\"\"}}}],\"scatterpolargl\":[{\"type\":\"scatterpolargl\",\"marker\":{\"colorbar\":{\"outlinewidth\":0,\"ticks\":\"\"}}}],\"bar\":[{\"error_x\":{\"color\":\"#2a3f5f\"},\"error_y\":{\"color\":\"#2a3f5f\"},\"marker\":{\"line\":{\"color\":\"#E5ECF6\",\"width\":0.5},\"pattern\":{\"fillmode\":\"overlay\",\"size\":10,\"solidity\":0.2}},\"type\":\"bar\"}],\"scattergeo\":[{\"type\":\"scattergeo\",\"marker\":{\"colorbar\":{\"outlinewidth\":0,\"ticks\":\"\"}}}],\"scatterpolar\":[{\"type\":\"scatterpolar\",\"marker\":{\"colorbar\":{\"outlinewidth\":0,\"ticks\":\"\"}}}],\"histogram\":[{\"marker\":{\"pattern\":{\"fillmode\":\"overlay\",\"size\":10,\"solidity\":0.2}},\"type\":\"histogram\"}],\"scattergl\":[{\"type\":\"scattergl\",\"marker\":{\"colorbar\":{\"outlinewidth\":0,\"ticks\":\"\"}}}],\"scatter3d\":[{\"type\":\"scatter3d\",\"line\":{\"colorbar\":{\"outlinewidth\":0,\"ticks\":\"\"}},\"marker\":{\"colorbar\":{\"outlinewidth\":0,\"ticks\":\"\"}}}],\"scattermapbox\":[{\"type\":\"scattermapbox\",\"marker\":{\"colorbar\":{\"outlinewidth\":0,\"ticks\":\"\"}}}],\"scatterternary\":[{\"type\":\"scatterternary\",\"marker\":{\"colorbar\":{\"outlinewidth\":0,\"ticks\":\"\"}}}],\"scattercarpet\":[{\"type\":\"scattercarpet\",\"marker\":{\"colorbar\":{\"outlinewidth\":0,\"ticks\":\"\"}}}],\"carpet\":[{\"aaxis\":{\"endlinecolor\":\"#2a3f5f\",\"gridcolor\":\"white\",\"linecolor\":\"white\",\"minorgridcolor\":\"white\",\"startlinecolor\":\"#2a3f5f\"},\"baxis\":{\"endlinecolor\":\"#2a3f5f\",\"gridcolor\":\"white\",\"linecolor\":\"white\",\"minorgridcolor\":\"white\",\"startlinecolor\":\"#2a3f5f\"},\"type\":\"carpet\"}],\"table\":[{\"cells\":{\"fill\":{\"color\":\"#EBF0F8\"},\"line\":{\"color\":\"white\"}},\"header\":{\"fill\":{\"color\":\"#C8D4E3\"},\"line\":{\"color\":\"white\"}},\"type\":\"table\"}],\"barpolar\":[{\"marker\":{\"line\":{\"color\":\"#E5ECF6\",\"width\":0.5},\"pattern\":{\"fillmode\":\"overlay\",\"size\":10,\"solidity\":0.2}},\"type\":\"barpolar\"}],\"pie\":[{\"automargin\":true,\"type\":\"pie\"}]},\"layout\":{\"autotypenumbers\":\"strict\",\"colorway\":[\"#636efa\",\"#EF553B\",\"#00cc96\",\"#ab63fa\",\"#FFA15A\",\"#19d3f3\",\"#FF6692\",\"#B6E880\",\"#FF97FF\",\"#FECB52\"],\"font\":{\"color\":\"#2a3f5f\"},\"hovermode\":\"closest\",\"hoverlabel\":{\"align\":\"left\"},\"paper_bgcolor\":\"white\",\"plot_bgcolor\":\"#E5ECF6\",\"polar\":{\"bgcolor\":\"#E5ECF6\",\"angularaxis\":{\"gridcolor\":\"white\",\"linecolor\":\"white\",\"ticks\":\"\"},\"radialaxis\":{\"gridcolor\":\"white\",\"linecolor\":\"white\",\"ticks\":\"\"}},\"ternary\":{\"bgcolor\":\"#E5ECF6\",\"aaxis\":{\"gridcolor\":\"white\",\"linecolor\":\"white\",\"ticks\":\"\"},\"baxis\":{\"gridcolor\":\"white\",\"linecolor\":\"white\",\"ticks\":\"\"},\"caxis\":{\"gridcolor\":\"white\",\"linecolor\":\"white\",\"ticks\":\"\"}},\"coloraxis\":{\"colorbar\":{\"outlinewidth\":0,\"ticks\":\"\"}},\"colorscale\":{\"sequential\":[[0.0,\"#0d0887\"],[0.1111111111111111,\"#46039f\"],[0.2222222222222222,\"#7201a8\"],[0.3333333333333333,\"#9c179e\"],[0.4444444444444444,\"#bd3786\"],[0.5555555555555556,\"#d8576b\"],[0.6666666666666666,\"#ed7953\"],[0.7777777777777778,\"#fb9f3a\"],[0.8888888888888888,\"#fdca26\"],[1.0,\"#f0f921\"]],\"sequentialminus\":[[0.0,\"#0d0887\"],[0.1111111111111111,\"#46039f\"],[0.2222222222222222,\"#7201a8\"],[0.3333333333333333,\"#9c179e\"],[0.4444444444444444,\"#bd3786\"],[0.5555555555555556,\"#d8576b\"],[0.6666666666666666,\"#ed7953\"],[0.7777777777777778,\"#fb9f3a\"],[0.8888888888888888,\"#fdca26\"],[1.0,\"#f0f921\"]],\"diverging\":[[0,\"#8e0152\"],[0.1,\"#c51b7d\"],[0.2,\"#de77ae\"],[0.3,\"#f1b6da\"],[0.4,\"#fde0ef\"],[0.5,\"#f7f7f7\"],[0.6,\"#e6f5d0\"],[0.7,\"#b8e186\"],[0.8,\"#7fbc41\"],[0.9,\"#4d9221\"],[1,\"#276419\"]]},\"xaxis\":{\"gridcolor\":\"white\",\"linecolor\":\"white\",\"ticks\":\"\",\"title\":{\"standoff\":15},\"zerolinecolor\":\"white\",\"automargin\":true,\"zerolinewidth\":2},\"yaxis\":{\"gridcolor\":\"white\",\"linecolor\":\"white\",\"ticks\":\"\",\"title\":{\"standoff\":15},\"zerolinecolor\":\"white\",\"automargin\":true,\"zerolinewidth\":2},\"scene\":{\"xaxis\":{\"backgroundcolor\":\"#E5ECF6\",\"gridcolor\":\"white\",\"linecolor\":\"white\",\"showbackground\":true,\"ticks\":\"\",\"zerolinecolor\":\"white\",\"gridwidth\":2},\"yaxis\":{\"backgroundcolor\":\"#E5ECF6\",\"gridcolor\":\"white\",\"linecolor\":\"white\",\"showbackground\":true,\"ticks\":\"\",\"zerolinecolor\":\"white\",\"gridwidth\":2},\"zaxis\":{\"backgroundcolor\":\"#E5ECF6\",\"gridcolor\":\"white\",\"linecolor\":\"white\",\"showbackground\":true,\"ticks\":\"\",\"zerolinecolor\":\"white\",\"gridwidth\":2}},\"shapedefaults\":{\"line\":{\"color\":\"#2a3f5f\"}},\"annotationdefaults\":{\"arrowcolor\":\"#2a3f5f\",\"arrowhead\":0,\"arrowwidth\":1},\"geo\":{\"bgcolor\":\"white\",\"landcolor\":\"#E5ECF6\",\"subunitcolor\":\"white\",\"showland\":true,\"showlakes\":true,\"lakecolor\":\"white\"},\"title\":{\"x\":0.05},\"mapbox\":{\"style\":\"light\"}}},\"title\":{\"text\":\"Which Gender is More Likely to Order Online Again?\"}},                        {\"responsive\": true}                    ).then(function(){\n",
       "                            \n",
       "var gd = document.getElementById('f3e2a207-46ee-4d40-af47-aa50f2a1889c');\n",
       "var x = new MutationObserver(function (mutations, observer) {{\n",
       "        var display = window.getComputedStyle(gd).display;\n",
       "        if (!display || display === 'none') {{\n",
       "            console.log([gd, 'removed!']);\n",
       "            Plotly.purge(gd);\n",
       "            observer.disconnect();\n",
       "        }}\n",
       "}});\n",
       "\n",
       "// Listen for the removal of the full notebook cells\n",
       "var notebookContainer = gd.closest('#notebook-container');\n",
       "if (notebookContainer) {{\n",
       "    x.observe(notebookContainer, {childList: true});\n",
       "}}\n",
       "\n",
       "// Listen for the clearing of the current output cell\n",
       "var outputEl = gd.closest('.output');\n",
       "if (outputEl) {{\n",
       "    x.observe(outputEl, {childList: true});\n",
       "}}\n",
       "\n",
       "                        })                };                });            </script>        </div>"
      ]
     },
     "metadata": {},
     "output_type": "display_data"
    }
   ],
   "source": [
    "reorder = data[data[\"Output\"] == \"Yes\"]\n",
    "gender_data = reorder['Gender'].value_counts()\n",
    "label = gender_data.index\n",
    "counts = gender_data.values\n",
    "\n",
    "colors = sns.color_palette('pastel')[2:4]\n",
    "\n",
    "fig = go.Figure(data=[go.Pie(labels=label, values=counts)])\n",
    "fig.update_layout(title_text = \"Which Gender is More Likely to Order Online Again?\")\n",
    "fig.update_traces(hoverinfo=\"label+percent\", textinfo=\"value\",marker=dict(colors=colors))\n",
    "\n",
    "fig.show()"
   ]
  },
  {
   "cell_type": "markdown",
   "id": "6cf8b853",
   "metadata": {
    "papermill": {
     "duration": 0.012688,
     "end_time": "2022-08-22T09:09:59.137333",
     "exception": false,
     "start_time": "2022-08-22T09:09:59.124645",
     "status": "completed"
    },
    "tags": []
   },
   "source": [
    "58% of male customer tend to reorder, compared to 41% of female customers."
   ]
  },
  {
   "cell_type": "code",
   "execution_count": 12,
   "id": "c47b7d49",
   "metadata": {
    "execution": {
     "iopub.execute_input": "2022-08-22T09:09:59.165053Z",
     "iopub.status.busy": "2022-08-22T09:09:59.164611Z",
     "iopub.status.idle": "2022-08-22T09:09:59.444280Z",
     "shell.execute_reply": "2022-08-22T09:09:59.443105Z"
    },
    "papermill": {
     "duration": 0.297136,
     "end_time": "2022-08-22T09:09:59.447363",
     "exception": false,
     "start_time": "2022-08-22T09:09:59.150227",
     "status": "completed"
    },
    "tags": []
   },
   "outputs": [
    {
     "data": {
      "image/png": "[encoded data removed]",
      "text/plain": [
       "<Figure size 720x576 with 1 Axes>"
      ]
     },
     "metadata": {
      "needs_background": "light"
     },
     "output_type": "display_data"
    }
   ],
   "source": [
    "plt.figure(figsize=(10,8))\n",
    "plt.title(\"Educational Qualifications Based on the Gender of the Customer\")\n",
    "sns.countplot(x='Monthly Income',data=data,hue='Output',palette=\"Pastel2_r\");"
   ]
  },
  {
   "cell_type": "markdown",
   "id": "4c27bddc",
   "metadata": {
    "papermill": {
     "duration": 0.013603,
     "end_time": "2022-08-22T09:09:59.475367",
     "exception": false,
     "start_time": "2022-08-22T09:09:59.461764",
     "status": "completed"
    },
    "tags": []
   },
   "source": [
    "We see that those with no income(**54%**) have a higher rate of reordering compared to not placing an order. The main reason for this may be that the majority of the customers are *students* and have no income."
   ]
  },
  {
   "cell_type": "code",
   "execution_count": 13,
   "id": "1783e16f",
   "metadata": {
    "execution": {
     "iopub.execute_input": "2022-08-22T09:09:59.504367Z",
     "iopub.status.busy": "2022-08-22T09:09:59.503938Z",
     "iopub.status.idle": "2022-08-22T09:09:59.521425Z",
     "shell.execute_reply": "2022-08-22T09:09:59.520579Z"
    },
    "papermill": {
     "duration": 0.034523,
     "end_time": "2022-08-22T09:09:59.523762",
     "exception": false,
     "start_time": "2022-08-22T09:09:59.489239",
     "status": "completed"
    },
    "tags": []
   },
   "outputs": [
    {
     "data": {
      "text/html": [
       "<div>                            <div id=\"c71c9bcc-4af8-4bc4-935b-04f6407549e9\" class=\"plotly-graph-div\" style=\"height:525px; width:100%;\"></div>            <script type=\"text/javascript\">                require([\"plotly\"], function(Plotly) {                    window.PLOTLYENV=window.PLOTLYENV || {};                                    if (document.getElementById(\"c71c9bcc-4af8-4bc4-935b-04f6407549e9\")) {                    Plotly.newPlot(                        \"c71c9bcc-4af8-4bc4-935b-04f6407549e9\",                        [{\"labels\":[\"Single\",\"Married\",\"Prefer not to say\"],\"values\":[229,66,6],\"type\":\"pie\",\"marker\":{\"colors\":[[0.5529411764705883,0.8980392156862745,0.6313725490196078],[1.0,0.6235294117647059,0.6078431372549019]]},\"hoverinfo\":\"label+percent\",\"textinfo\":\"value\"}],                        {\"template\":{\"data\":{\"histogram2dcontour\":[{\"type\":\"histogram2dcontour\",\"colorbar\":{\"outlinewidth\":0,\"ticks\":\"\"},\"colorscale\":[[0.0,\"#0d0887\"],[0.1111111111111111,\"#46039f\"],[0.2222222222222222,\"#7201a8\"],[0.3333333333333333,\"#9c179e\"],[0.4444444444444444,\"#bd3786\"],[0.5555555555555556,\"#d8576b\"],[0.6666666666666666,\"#ed7953\"],[0.7777777777777778,\"#fb9f3a\"],[0.8888888888888888,\"#fdca26\"],[1.0,\"#f0f921\"]]}],\"choropleth\":[{\"type\":\"choropleth\",\"colorbar\":{\"outlinewidth\":0,\"ticks\":\"\"}}],\"histogram2d\":[{\"type\":\"histogram2d\",\"colorbar\":{\"outlinewidth\":0,\"ticks\":\"\"},\"colorscale\":[[0.0,\"#0d0887\"],[0.1111111111111111,\"#46039f\"],[0.2222222222222222,\"#7201a8\"],[0.3333333333333333,\"#9c179e\"],[0.4444444444444444,\"#bd3786\"],[0.5555555555555556,\"#d8576b\"],[0.6666666666666666,\"#ed7953\"],[0.7777777777777778,\"#fb9f3a\"],[0.8888888888888888,\"#fdca26\"],[1.0,\"#f0f921\"]]}],\"heatmap\":[{\"type\":\"heatmap\",\"colorbar\":{\"outlinewidth\":0,\"ticks\":\"\"},\"colorscale\":[[0.0,\"#0d0887\"],[0.1111111111111111,\"#46039f\"],[0.2222222222222222,\"#7201a8\"],[0.3333333333333333,\"#9c179e\"],[0.4444444444444444,\"#bd3786\"],[0.5555555555555556,\"#d8576b\"],[0.6666666666666666,\"#ed7953\"],[0.7777777777777778,\"#fb9f3a\"],[0.8888888888888888,\"#fdca26\"],[1.0,\"#f0f921\"]]}],\"heatmapgl\":[{\"type\":\"heatmapgl\",\"colorbar\":{\"outlinewidth\":0,\"ticks\":\"\"},\"colorscale\":[[0.0,\"#0d0887\"],[0.1111111111111111,\"#46039f\"],[0.2222222222222222,\"#7201a8\"],[0.3333333333333333,\"#9c179e\"],[0.4444444444444444,\"#bd3786\"],[0.5555555555555556,\"#d8576b\"],[0.6666666666666666,\"#ed7953\"],[0.7777777777777778,\"#fb9f3a\"],[0.8888888888888888,\"#fdca26\"],[1.0,\"#f0f921\"]]}],\"contourcarpet\":[{\"type\":\"contourcarpet\",\"colorbar\":{\"outlinewidth\":0,\"ticks\":\"\"}}],\"contour\":[{\"type\":\"contour\",\"colorbar\":{\"outlinewidth\":0,\"ticks\":\"\"},\"colorscale\":[[0.0,\"#0d0887\"],[0.1111111111111111,\"#46039f\"],[0.2222222222222222,\"#7201a8\"],[0.3333333333333333,\"#9c179e\"],[0.4444444444444444,\"#bd3786\"],[0.5555555555555556,\"#d8576b\"],[0.6666666666666666,\"#ed7953\"],[0.7777777777777778,\"#fb9f3a\"],[0.8888888888888888,\"#fdca26\"],[1.0,\"#f0f921\"]]}],\"surface\":[{\"type\":\"surface\",\"colorbar\":{\"outlinewidth\":0,\"ticks\":\"\"},\"colorscale\":[[0.0,\"#0d0887\"],[0.1111111111111111,\"#46039f\"],[0.2222222222222222,\"#7201a8\"],[0.3333333333333333,\"#9c179e\"],[0.4444444444444444,\"#bd3786\"],[0.5555555555555556,\"#d8576b\"],[0.6666666666666666,\"#ed7953\"],[0.7777777777777778,\"#fb9f3a\"],[0.8888888888888888,\"#fdca26\"],[1.0,\"#f0f921\"]]}],\"mesh3d\":[{\"type\":\"mesh3d\",\"colorbar\":{\"outlinewidth\":0,\"ticks\":\"\"}}],\"scatter\":[{\"fillpattern\":{\"fillmode\":\"overlay\",\"size\":10,\"solidity\":0.2},\"type\":\"scatter\"}],\"parcoords\":[{\"type\":\"parcoords\",\"line\":{\"colorbar\":{\"outlinewidth\":0,\"ticks\":\"\"}}}],\"scatterpolargl\":[{\"type\":\"scatterpolargl\",\"marker\":{\"colorbar\":{\"outlinewidth\":0,\"ticks\":\"\"}}}],\"bar\":[{\"error_x\":{\"color\":\"#2a3f5f\"},\"error_y\":{\"color\":\"#2a3f5f\"},\"marker\":{\"line\":{\"color\":\"#E5ECF6\",\"width\":0.5},\"pattern\":{\"fillmode\":\"overlay\",\"size\":10,\"solidity\":0.2}},\"type\":\"bar\"}],\"scattergeo\":[{\"type\":\"scattergeo\",\"marker\":{\"colorbar\":{\"outlinewidth\":0,\"ticks\":\"\"}}}],\"scatterpolar\":[{\"type\":\"scatterpolar\",\"marker\":{\"colorbar\":{\"outlinewidth\":0,\"ticks\":\"\"}}}],\"histogram\":[{\"marker\":{\"pattern\":{\"fillmode\":\"overlay\",\"size\":10,\"solidity\":0.2}},\"type\":\"histogram\"}],\"scattergl\":[{\"type\":\"scattergl\",\"marker\":{\"colorbar\":{\"outlinewidth\":0,\"ticks\":\"\"}}}],\"scatter3d\":[{\"type\":\"scatter3d\",\"line\":{\"colorbar\":{\"outlinewidth\":0,\"ticks\":\"\"}},\"marker\":{\"colorbar\":{\"outlinewidth\":0,\"ticks\":\"\"}}}],\"scattermapbox\":[{\"type\":\"scattermapbox\",\"marker\":{\"colorbar\":{\"outlinewidth\":0,\"ticks\":\"\"}}}],\"scatterternary\":[{\"type\":\"scatterternary\",\"marker\":{\"colorbar\":{\"outlinewidth\":0,\"ticks\":\"\"}}}],\"scattercarpet\":[{\"type\":\"scattercarpet\",\"marker\":{\"colorbar\":{\"outlinewidth\":0,\"ticks\":\"\"}}}],\"carpet\":[{\"aaxis\":{\"endlinecolor\":\"#2a3f5f\",\"gridcolor\":\"white\",\"linecolor\":\"white\",\"minorgridcolor\":\"white\",\"startlinecolor\":\"#2a3f5f\"},\"baxis\":{\"endlinecolor\":\"#2a3f5f\",\"gridcolor\":\"white\",\"linecolor\":\"white\",\"minorgridcolor\":\"white\",\"startlinecolor\":\"#2a3f5f\"},\"type\":\"carpet\"}],\"table\":[{\"cells\":{\"fill\":{\"color\":\"#EBF0F8\"},\"line\":{\"color\":\"white\"}},\"header\":{\"fill\":{\"color\":\"#C8D4E3\"},\"line\":{\"color\":\"white\"}},\"type\":\"table\"}],\"barpolar\":[{\"marker\":{\"line\":{\"color\":\"#E5ECF6\",\"width\":0.5},\"pattern\":{\"fillmode\":\"overlay\",\"size\":10,\"solidity\":0.2}},\"type\":\"barpolar\"}],\"pie\":[{\"automargin\":true,\"type\":\"pie\"}]},\"layout\":{\"autotypenumbers\":\"strict\",\"colorway\":[\"#636efa\",\"#EF553B\",\"#00cc96\",\"#ab63fa\",\"#FFA15A\",\"#19d3f3\",\"#FF6692\",\"#B6E880\",\"#FF97FF\",\"#FECB52\"],\"font\":{\"color\":\"#2a3f5f\"},\"hovermode\":\"closest\",\"hoverlabel\":{\"align\":\"left\"},\"paper_bgcolor\":\"white\",\"plot_bgcolor\":\"#E5ECF6\",\"polar\":{\"bgcolor\":\"#E5ECF6\",\"angularaxis\":{\"gridcolor\":\"white\",\"linecolor\":\"white\",\"ticks\":\"\"},\"radialaxis\":{\"gridcolor\":\"white\",\"linecolor\":\"white\",\"ticks\":\"\"}},\"ternary\":{\"bgcolor\":\"#E5ECF6\",\"aaxis\":{\"gridcolor\":\"white\",\"linecolor\":\"white\",\"ticks\":\"\"},\"baxis\":{\"gridcolor\":\"white\",\"linecolor\":\"white\",\"ticks\":\"\"},\"caxis\":{\"gridcolor\":\"white\",\"linecolor\":\"white\",\"ticks\":\"\"}},\"coloraxis\":{\"colorbar\":{\"outlinewidth\":0,\"ticks\":\"\"}},\"colorscale\":{\"sequential\":[[0.0,\"#0d0887\"],[0.1111111111111111,\"#46039f\"],[0.2222222222222222,\"#7201a8\"],[0.3333333333333333,\"#9c179e\"],[0.4444444444444444,\"#bd3786\"],[0.5555555555555556,\"#d8576b\"],[0.6666666666666666,\"#ed7953\"],[0.7777777777777778,\"#fb9f3a\"],[0.8888888888888888,\"#fdca26\"],[1.0,\"#f0f921\"]],\"sequentialminus\":[[0.0,\"#0d0887\"],[0.1111111111111111,\"#46039f\"],[0.2222222222222222,\"#7201a8\"],[0.3333333333333333,\"#9c179e\"],[0.4444444444444444,\"#bd3786\"],[0.5555555555555556,\"#d8576b\"],[0.6666666666666666,\"#ed7953\"],[0.7777777777777778,\"#fb9f3a\"],[0.8888888888888888,\"#fdca26\"],[1.0,\"#f0f921\"]],\"diverging\":[[0,\"#8e0152\"],[0.1,\"#c51b7d\"],[0.2,\"#de77ae\"],[0.3,\"#f1b6da\"],[0.4,\"#fde0ef\"],[0.5,\"#f7f7f7\"],[0.6,\"#e6f5d0\"],[0.7,\"#b8e186\"],[0.8,\"#7fbc41\"],[0.9,\"#4d9221\"],[1,\"#276419\"]]},\"xaxis\":{\"gridcolor\":\"white\",\"linecolor\":\"white\",\"ticks\":\"\",\"title\":{\"standoff\":15},\"zerolinecolor\":\"white\",\"automargin\":true,\"zerolinewidth\":2},\"yaxis\":{\"gridcolor\":\"white\",\"linecolor\":\"white\",\"ticks\":\"\",\"title\":{\"standoff\":15},\"zerolinecolor\":\"white\",\"automargin\":true,\"zerolinewidth\":2},\"scene\":{\"xaxis\":{\"backgroundcolor\":\"#E5ECF6\",\"gridcolor\":\"white\",\"linecolor\":\"white\",\"showbackground\":true,\"ticks\":\"\",\"zerolinecolor\":\"white\",\"gridwidth\":2},\"yaxis\":{\"backgroundcolor\":\"#E5ECF6\",\"gridcolor\":\"white\",\"linecolor\":\"white\",\"showbackground\":true,\"ticks\":\"\",\"zerolinecolor\":\"white\",\"gridwidth\":2},\"zaxis\":{\"backgroundcolor\":\"#E5ECF6\",\"gridcolor\":\"white\",\"linecolor\":\"white\",\"showbackground\":true,\"ticks\":\"\",\"zerolinecolor\":\"white\",\"gridwidth\":2}},\"shapedefaults\":{\"line\":{\"color\":\"#2a3f5f\"}},\"annotationdefaults\":{\"arrowcolor\":\"#2a3f5f\",\"arrowhead\":0,\"arrowwidth\":1},\"geo\":{\"bgcolor\":\"white\",\"landcolor\":\"#E5ECF6\",\"subunitcolor\":\"white\",\"showland\":true,\"showlakes\":true,\"lakecolor\":\"white\"},\"title\":{\"x\":0.05},\"mapbox\":{\"style\":\"light\"}}},\"title\":{\"text\":\"What is the Marital Status of Customers?\"}},                        {\"responsive\": true}                    ).then(function(){\n",
       "                            \n",
       "var gd = document.getElementById('c71c9bcc-4af8-4bc4-935b-04f6407549e9');\n",
       "var x = new MutationObserver(function (mutations, observer) {{\n",
       "        var display = window.getComputedStyle(gd).display;\n",
       "        if (!display || display === 'none') {{\n",
       "            console.log([gd, 'removed!']);\n",
       "            Plotly.purge(gd);\n",
       "            observer.disconnect();\n",
       "        }}\n",
       "}});\n",
       "\n",
       "// Listen for the removal of the full notebook cells\n",
       "var notebookContainer = gd.closest('#notebook-container');\n",
       "if (notebookContainer) {{\n",
       "    x.observe(notebookContainer, {childList: true});\n",
       "}}\n",
       "\n",
       "// Listen for the clearing of the current output cell\n",
       "var outputEl = gd.closest('.output');\n",
       "if (outputEl) {{\n",
       "    x.observe(outputEl, {childList: true});\n",
       "}}\n",
       "\n",
       "                        })                };                });            </script>        </div>"
      ]
     },
     "metadata": {},
     "output_type": "display_data"
    }
   ],
   "source": [
    "reorder = data[data[\"Output\"] == \"Yes\"]\n",
    "status_data = reorder['Marital Status'].value_counts()\n",
    "label = status_data.index\n",
    "counts = status_data.values\n",
    "\n",
    "fig = go.Figure(data=[go.Pie(labels=label, values=counts)])\n",
    "fig.update_layout(title_text = \"What is the Marital Status of Customers?\")\n",
    "fig.update_traces(hoverinfo=\"label+percent\", textinfo=\"value\",marker=dict(colors=colors))\n",
    "\n",
    "fig.show()"
   ]
  },
  {
   "cell_type": "markdown",
   "id": "fb872964",
   "metadata": {
    "papermill": {
     "duration": 0.013951,
     "end_time": "2022-08-22T09:09:59.551113",
     "exception": false,
     "start_time": "2022-08-22T09:09:59.537162",
     "status": "completed"
    },
    "tags": []
   },
   "source": [
    "About 76% of customers who order are *married*."
   ]
  },
  {
   "cell_type": "markdown",
   "id": "4b37c62f",
   "metadata": {
    "papermill": {
     "duration": 0.012865,
     "end_time": "2022-08-22T09:09:59.577420",
     "exception": false,
     "start_time": "2022-08-22T09:09:59.564555",
     "status": "completed"
    },
    "tags": []
   },
   "source": [
    "positive = len(data[data[\"Feedback\"] == 'Positive'])\n",
    "negative = len(data[data[\"Feedback\"] == 'Negative '])\n",
    "data_feedback = [positive,negative]\n",
    "labels = ['Positive', 'Negative']\n",
    "\n",
    "colors = sns.color_palette('pastel')[0:5] # seaborn color palette to use\n",
    "\n",
    "plt.figure(figsize=(10,8))\n",
    "plt.title(\"Percentages of the Customer's Feedback\")\n",
    "plt.pie(data_feedback, labels = labels, colors = colors, autopct='%.0f%%')\n",
    "plt.show()"
   ]
  },
  {
   "cell_type": "markdown",
   "id": "fce9011c",
   "metadata": {
    "papermill": {
     "duration": 0.012799,
     "end_time": "2022-08-22T09:09:59.603476",
     "exception": false,
     "start_time": "2022-08-22T09:09:59.590677",
     "status": "completed"
    },
    "tags": []
   },
   "source": [
    "Of the total comments, 82% are positive while 18% are negative. So how does this rate affect reordering(**Output**)?"
   ]
  },
  {
   "cell_type": "markdown",
   "id": "218e1273",
   "metadata": {
    "papermill": {
     "duration": 0.012894,
     "end_time": "2022-08-22T09:09:59.629624",
     "exception": false,
     "start_time": "2022-08-22T09:09:59.616730",
     "status": "completed"
    },
    "tags": []
   },
   "source": [
    "plt.figure(figsize=(10,8))\n",
    "plt.title(\"Does Feedback Have Any Effect On Reordering?\")\n",
    "sns.countplot(x='Feedback',data=data,hue='Output',palette=\"Pastel1\");"
   ]
  },
  {
   "cell_type": "markdown",
   "id": "8cb6f289",
   "metadata": {
    "papermill": {
     "duration": 0.012722,
     "end_time": "2022-08-22T09:09:59.655559",
     "exception": false,
     "start_time": "2022-08-22T09:09:59.642837",
     "status": "completed"
    },
    "tags": []
   },
   "source": [
    "As can be seen from the plot, the majority of customers with positive feedback will order again, while customers with negative feedback are more likely to not order."
   ]
  },
  {
   "cell_type": "markdown",
   "id": "53d2bba6",
   "metadata": {
    "papermill": {
     "duration": 0.013197,
     "end_time": "2022-08-22T09:09:59.681980",
     "exception": false,
     "start_time": "2022-08-22T09:09:59.668783",
     "status": "completed"
    },
    "tags": []
   },
   "source": [
    "# Preparing the Data"
   ]
  },
  {
   "cell_type": "code",
   "execution_count": 14,
   "id": "d923b086",
   "metadata": {
    "execution": {
     "iopub.execute_input": "2022-08-22T09:09:59.710839Z",
     "iopub.status.busy": "2022-08-22T09:09:59.709812Z",
     "iopub.status.idle": "2022-08-22T09:09:59.718105Z",
     "shell.execute_reply": "2022-08-22T09:09:59.716811Z"
    },
    "papermill": {
     "duration": 0.025235,
     "end_time": "2022-08-22T09:09:59.720526",
     "exception": false,
     "start_time": "2022-08-22T09:09:59.695291",
     "status": "completed"
    },
    "tags": []
   },
   "outputs": [
    {
     "data": {
      "text/plain": [
       "array(['No Income', 'Below Rs.10000', 'More than 50000', '10001 to 25000',\n",
       "       '25001 to 50000'], dtype=object)"
      ]
     },
     "execution_count": 14,
     "metadata": {},
     "output_type": "execute_result"
    }
   ],
   "source": [
    "data[\"Monthly Income\"].unique()"
   ]
  },
  {
   "cell_type": "code",
   "execution_count": 15,
   "id": "6fd5e9dc",
   "metadata": {
    "execution": {
     "iopub.execute_input": "2022-08-22T09:09:59.749889Z",
     "iopub.status.busy": "2022-08-22T09:09:59.749436Z",
     "iopub.status.idle": "2022-08-22T09:09:59.769029Z",
     "shell.execute_reply": "2022-08-22T09:09:59.767950Z"
    },
    "papermill": {
     "duration": 0.037552,
     "end_time": "2022-08-22T09:09:59.771531",
     "exception": false,
     "start_time": "2022-08-22T09:09:59.733979",
     "status": "completed"
    },
    "tags": []
   },
   "outputs": [],
   "source": [
    "data[\"Gender\"] = data[\"Gender\"].map({\"Male\":0,\"Female\":1}) # male or female\n",
    "\n",
    "data[\"Marital Status\"] = data[\"Marital Status\"].map({\"Married\":0,\"Single\":1,\"Prefer not to say\":2})\n",
    "\n",
    "\n",
    "data[\"Occupation\"] = data[\"Occupation\"].replace(to_replace=[\"Employee\",\"Self Employeed\"], value=1) # employed\n",
    "data[\"Occupation\"] = data[\"Occupation\"].replace(to_replace=[\"Student\",\"House wife\"], value=0) # unemployed\n",
    "\n",
    "\n",
    "data[\"Educational Qualifications\"] = data[\"Educational Qualifications\"].map({\"Graduate\": 1, \n",
    "                                                                             \"Post Graduate\": 2, \n",
    "                                                                             \"Ph.D\": 3, \"School\": 4,\n",
    "                                                                             \"Uneducated\": 5})\n",
    "\n",
    "\n",
    "data[\"Monthly Income\"] = data[\"Monthly Income\"].replace(to_replace=[\"No Income\"], value=0) # no income\n",
    "data[\"Monthly Income\"] = data[\"Monthly Income\"].replace(to_replace=[\"Below Rs.10000\",\n",
    "                                                                   \"More than 50000\",\n",
    "                                                                   \"25001 to 50000\",\n",
    "                                                                   \"10001 to 25000\"], value=1)  # has an income\n",
    "                                                                             \n",
    "#data[\"Feedback\"] = data[\"Feedback\"].map({\"Negative \":0,\"Positive\":1}) # negative or positive\n",
    "\n",
    "data[\"Output\"] = data[\"Output\"].map({\"No\":0,\"Yes\":1}) # no or yes"
   ]
  },
  {
   "cell_type": "markdown",
   "id": "4828cb0f",
   "metadata": {
    "papermill": {
     "duration": 0.013074,
     "end_time": "2022-08-22T09:09:59.797997",
     "exception": false,
     "start_time": "2022-08-22T09:09:59.784923",
     "status": "completed"
    },
    "tags": []
   },
   "source": [
    "# Prediction Model"
   ]
  },
  {
   "cell_type": "code",
   "execution_count": 16,
   "id": "ec73a915",
   "metadata": {
    "execution": {
     "iopub.execute_input": "2022-08-22T09:09:59.826918Z",
     "iopub.status.busy": "2022-08-22T09:09:59.826169Z",
     "iopub.status.idle": "2022-08-22T09:09:59.837118Z",
     "shell.execute_reply": "2022-08-22T09:09:59.835513Z"
    },
    "papermill": {
     "duration": 0.028286,
     "end_time": "2022-08-22T09:09:59.839622",
     "exception": false,
     "start_time": "2022-08-22T09:09:59.811336",
     "status": "completed"
    },
    "tags": []
   },
   "outputs": [
    {
     "name": "stdout",
     "output_type": "stream",
     "text": [
      "Shape of train dataset :  (310, 10)\n",
      "Shape of test dataset :  (78, 10)\n"
     ]
    }
   ],
   "source": [
    "X = data.drop('Output',axis=1)\n",
    "y = data['Output']\n",
    "\n",
    "X_train,X_test, y_train, y_test = train_test_split(X,y, test_size=0.2, \n",
    "                                                    random_state=101)\n",
    "\n",
    "print(\"Shape of train dataset : \", X_train.shape)\n",
    "print(\"Shape of test dataset : \", X_test.shape)"
   ]
  },
  {
   "cell_type": "code",
   "execution_count": 17,
   "id": "e6eda36f",
   "metadata": {
    "execution": {
     "iopub.execute_input": "2022-08-22T09:09:59.870711Z",
     "iopub.status.busy": "2022-08-22T09:09:59.869842Z",
     "iopub.status.idle": "2022-08-22T09:10:00.071443Z",
     "shell.execute_reply": "2022-08-22T09:10:00.069323Z"
    },
    "papermill": {
     "duration": 0.222414,
     "end_time": "2022-08-22T09:10:00.075348",
     "exception": false,
     "start_time": "2022-08-22T09:09:59.852934",
     "status": "completed"
    },
    "tags": []
   },
   "outputs": [
    {
     "name": "stdout",
     "output_type": "stream",
     "text": [
      "0.8846153846153846\n"
     ]
    }
   ],
   "source": [
    "rfc = RandomForestClassifier(n_estimators=100)\n",
    "\n",
    "rfc.fit(X_train, y_train)\n",
    "\n",
    "print(rfc.score(X_test, y_test))"
   ]
  },
  {
   "cell_type": "code",
   "execution_count": 18,
   "id": "fe2540a3",
   "metadata": {
    "execution": {
     "iopub.execute_input": "2022-08-22T09:10:00.123089Z",
     "iopub.status.busy": "2022-08-22T09:10:00.122427Z",
     "iopub.status.idle": "2022-08-22T09:10:00.395793Z",
     "shell.execute_reply": "2022-08-22T09:10:00.394947Z"
    },
    "papermill": {
     "duration": 0.308369,
     "end_time": "2022-08-22T09:10:00.398301",
     "exception": false,
     "start_time": "2022-08-22T09:10:00.089932",
     "status": "completed"
    },
    "tags": []
   },
   "outputs": [
    {
     "name": "stdout",
     "output_type": "stream",
     "text": [
      "[[10  1]\n",
      " [ 8 59]]\n"
     ]
    },
    {
     "data": {
      "image/png": "[encoded data removed]",
      "text/plain": [
       "<Figure size 720x576 with 2 Axes>"
      ]
     },
     "metadata": {
      "needs_background": "light"
     },
     "output_type": "display_data"
    }
   ],
   "source": [
    "pred = rfc.predict(X_test)\n",
    "\n",
    "print(confusion_matrix(pred,y_test))\n",
    "\n",
    "plt.figure(figsize=(10,8))\n",
    "sns.heatmap(confusion_matrix(pred,y_test), annot=True);"
   ]
  },
  {
   "cell_type": "code",
   "execution_count": 19,
   "id": "77341830",
   "metadata": {
    "execution": {
     "iopub.execute_input": "2022-08-22T09:10:00.428523Z",
     "iopub.status.busy": "2022-08-22T09:10:00.427449Z",
     "iopub.status.idle": "2022-08-22T09:10:01.284544Z",
     "shell.execute_reply": "2022-08-22T09:10:01.283347Z"
    },
    "papermill": {
     "duration": 0.875585,
     "end_time": "2022-08-22T09:10:01.287979",
     "exception": false,
     "start_time": "2022-08-22T09:10:00.412394",
     "status": "completed"
    },
    "tags": []
   },
   "outputs": [
    {
     "name": "stdout",
     "output_type": "stream",
     "text": [
      "Accuracy:  0.867741935483871 0.06255070783763\n"
     ]
    }
   ],
   "source": [
    "# Evaluating a score by cross-validation\n",
    "# cv determines the cross-validation splitting strategy\n",
    "scores = cross_val_score(rfc, X_train, y_train,cv=5)\n",
    "\n",
    "# average score\n",
    "print(\"Accuracy: \", scores.mean(), scores.std() * 2)"
   ]
  },
  {
   "cell_type": "markdown",
   "id": "0180689f",
   "metadata": {
    "papermill": {
     "duration": 0.013382,
     "end_time": "2022-08-22T09:10:01.315493",
     "exception": false,
     "start_time": "2022-08-22T09:10:01.302111",
     "status": "completed"
    },
    "tags": []
   },
   "source": [
    "# Parameter Search"
   ]
  },
  {
   "cell_type": "code",
   "execution_count": 20,
   "id": "56582b3c",
   "metadata": {
    "execution": {
     "iopub.execute_input": "2022-08-22T09:10:01.345902Z",
     "iopub.status.busy": "2022-08-22T09:10:01.345278Z",
     "iopub.status.idle": "2022-08-22T09:10:01.354345Z",
     "shell.execute_reply": "2022-08-22T09:10:01.353220Z"
    },
    "papermill": {
     "duration": 0.026927,
     "end_time": "2022-08-22T09:10:01.356721",
     "exception": false,
     "start_time": "2022-08-22T09:10:01.329794",
     "status": "completed"
    },
    "tags": []
   },
   "outputs": [
    {
     "data": {
      "text/plain": [
       "Pipeline(steps=[('randomforestclassifier', RandomForestClassifier())])"
      ]
     },
     "execution_count": 20,
     "metadata": {},
     "output_type": "execute_result"
    }
   ],
   "source": [
    "parameters = {\n",
    "    'randomforestclassifier__n_estimators': (20, 50, 100)\n",
    "}\n",
    "\n",
    "pipeline = make_pipeline(RandomForestClassifier())\n",
    "\n",
    "pipeline"
   ]
  },
  {
   "cell_type": "code",
   "execution_count": 21,
   "id": "1d93c4ca",
   "metadata": {
    "execution": {
     "iopub.execute_input": "2022-08-22T09:10:01.386844Z",
     "iopub.status.busy": "2022-08-22T09:10:01.386390Z",
     "iopub.status.idle": "2022-08-22T09:10:01.390922Z",
     "shell.execute_reply": "2022-08-22T09:10:01.390002Z"
    },
    "papermill": {
     "duration": 0.022166,
     "end_time": "2022-08-22T09:10:01.393054",
     "exception": false,
     "start_time": "2022-08-22T09:10:01.370888",
     "status": "completed"
    },
    "tags": []
   },
   "outputs": [],
   "source": [
    "gridsearch = GridSearchCV(pipeline, parameters, verbose=1, n_jobs= -1)"
   ]
  },
  {
   "cell_type": "code",
   "execution_count": 22,
   "id": "3d554b1d",
   "metadata": {
    "execution": {
     "iopub.execute_input": "2022-08-22T09:10:01.423406Z",
     "iopub.status.busy": "2022-08-22T09:10:01.422728Z",
     "iopub.status.idle": "2022-08-22T09:10:03.897953Z",
     "shell.execute_reply": "2022-08-22T09:10:03.896311Z"
    },
    "papermill": {
     "duration": 2.493455,
     "end_time": "2022-08-22T09:10:03.900538",
     "exception": false,
     "start_time": "2022-08-22T09:10:01.407083",
     "status": "completed"
    },
    "tags": []
   },
   "outputs": [
    {
     "name": "stdout",
     "output_type": "stream",
     "text": [
      "Fitting 5 folds for each of 3 candidates, totalling 15 fits\n"
     ]
    },
    {
     "data": {
      "text/plain": [
       "GridSearchCV(estimator=Pipeline(steps=[('randomforestclassifier',\n",
       "                                        RandomForestClassifier())]),\n",
       "             n_jobs=-1,\n",
       "             param_grid={'randomforestclassifier__n_estimators': (20, 50, 100)},\n",
       "             verbose=1)"
      ]
     },
     "execution_count": 22,
     "metadata": {},
     "output_type": "execute_result"
    }
   ],
   "source": [
    "gridsearch.fit(X_train,y_train)"
   ]
  },
  {
   "cell_type": "code",
   "execution_count": 23,
   "id": "2ef83779",
   "metadata": {
    "execution": {
     "iopub.execute_input": "2022-08-22T09:10:03.932040Z",
     "iopub.status.busy": "2022-08-22T09:10:03.931566Z",
     "iopub.status.idle": "2022-08-22T09:10:03.939524Z",
     "shell.execute_reply": "2022-08-22T09:10:03.937765Z"
    },
    "papermill": {
     "duration": 0.028045,
     "end_time": "2022-08-22T09:10:03.943090",
     "exception": false,
     "start_time": "2022-08-22T09:10:03.915045",
     "status": "completed"
    },
    "tags": []
   },
   "outputs": [
    {
     "name": "stdout",
     "output_type": "stream",
     "text": [
      "Best score 0.874\n",
      "Best parameters set: \n",
      "\trandomforestclassifier__n_estimators: 20\n"
     ]
    }
   ],
   "source": [
    "print(\"Best score %0.3f\" % gridsearch.best_score_)\n",
    "print(\"Best parameters set: \")\n",
    "best_parameters = gridsearch.best_estimator_.get_params()\n",
    "\n",
    "for params in sorted(parameters.keys()):\n",
    "    print(\"\\t%s: %r\" % (params, best_parameters[params]))"
   ]
  },
  {
   "cell_type": "markdown",
   "id": "603eb7ac",
   "metadata": {
    "papermill": {
     "duration": 0.01598,
     "end_time": "2022-08-22T09:10:03.975767",
     "exception": false,
     "start_time": "2022-08-22T09:10:03.959787",
     "status": "completed"
    },
    "tags": []
   },
   "source": [
    "# Given the following customer, would this person order?"
   ]
  },
  {
   "cell_type": "code",
   "execution_count": 24,
   "id": "ef50e24e",
   "metadata": {
    "execution": {
     "iopub.execute_input": "2022-08-22T09:10:04.011063Z",
     "iopub.status.busy": "2022-08-22T09:10:04.010555Z",
     "iopub.status.idle": "2022-08-22T09:10:04.027288Z",
     "shell.execute_reply": "2022-08-22T09:10:04.025447Z"
    },
    "papermill": {
     "duration": 0.035503,
     "end_time": "2022-08-22T09:10:04.029939",
     "exception": false,
     "start_time": "2022-08-22T09:10:03.994436",
     "status": "completed"
    },
    "tags": []
   },
   "outputs": [
    {
     "name": "stdout",
     "output_type": "stream",
     "text": [
      "273\n"
     ]
    },
    {
     "data": {
      "text/plain": [
       "Age                               24.0000\n",
       "Gender                             1.0000\n",
       "Marital Status                     0.0000\n",
       "Occupation                         1.0000\n",
       "Monthly Income                     1.0000\n",
       "Educational Qualifications         2.0000\n",
       "Family size                        2.0000\n",
       "latitude                          12.9561\n",
       "longitude                         77.5921\n",
       "Pin code                      560027.0000\n",
       "Name: 273, dtype: float64"
      ]
     },
     "execution_count": 24,
     "metadata": {},
     "output_type": "execute_result"
    }
   ],
   "source": [
    "r = random.randint(0,len(data))\n",
    "print(r)\n",
    "new_customer = data.drop('Output', axis=1).iloc[r]\n",
    "new_customer"
   ]
  },
  {
   "cell_type": "code",
   "execution_count": 25,
   "id": "cd5a618e",
   "metadata": {
    "execution": {
     "iopub.execute_input": "2022-08-22T09:10:04.061623Z",
     "iopub.status.busy": "2022-08-22T09:10:04.060096Z",
     "iopub.status.idle": "2022-08-22T09:10:04.081988Z",
     "shell.execute_reply": "2022-08-22T09:10:04.080792Z"
    },
    "papermill": {
     "duration": 0.039971,
     "end_time": "2022-08-22T09:10:04.084447",
     "exception": false,
     "start_time": "2022-08-22T09:10:04.044476",
     "status": "completed"
    },
    "tags": []
   },
   "outputs": [
    {
     "data": {
      "text/plain": [
       "array([1])"
      ]
     },
     "execution_count": 25,
     "metadata": {},
     "output_type": "execute_result"
    }
   ],
   "source": [
    "rfc.predict(new_customer.values.reshape(1,10)) # predicted output"
   ]
  },
  {
   "cell_type": "code",
   "execution_count": 26,
   "id": "28d2b79e",
   "metadata": {
    "execution": {
     "iopub.execute_input": "2022-08-22T09:10:04.117430Z",
     "iopub.status.busy": "2022-08-22T09:10:04.116706Z",
     "iopub.status.idle": "2022-08-22T09:10:04.128462Z",
     "shell.execute_reply": "2022-08-22T09:10:04.126758Z"
    },
    "papermill": {
     "duration": 0.031973,
     "end_time": "2022-08-22T09:10:04.132241",
     "exception": false,
     "start_time": "2022-08-22T09:10:04.100268",
     "status": "completed"
    },
    "tags": []
   },
   "outputs": [
    {
     "data": {
      "text/plain": [
       "1.0"
      ]
     },
     "execution_count": 26,
     "metadata": {},
     "output_type": "execute_result"
    }
   ],
   "source": [
    "data.iloc[r]['Output'] # actual Output"
   ]
  }
 ],
 "metadata": {
  "kernelspec": {
   "display_name": "Python 3",
   "language": "python",
   "name": "python3"
  },
  "language_info": {
   "codemirror_mode": {
    "name": "ipython",
    "version": 3
   },
   "file_extension": ".py",
   "mimetype": "text/x-python",
   "name": "python",
   "nbconvert_exporter": "python",
   "pygments_lexer": "ipython3",
   "version": "3.7.12"
  },
  "papermill": {
   "default_parameters": {},
   "duration": 21.656537,
   "end_time": "2022-08-22T09:10:06.775960",
   "environment_variables": {},
   "exception": null,
   "input_path": "__notebook__.ipynb",
   "output_path": "__notebook__.ipynb",
   "parameters": {},
   "start_time": "2022-08-22T09:09:45.119423",
   "version": "2.3.4"
  }
 },
 "nbformat": 4,
 "nbformat_minor": 5
}
